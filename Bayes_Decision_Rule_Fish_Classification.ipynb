{
  "nbformat": 4,
  "nbformat_minor": 0,
  "metadata": {
    "colab": {
      "name": "Bayes Decision Rule_Fish Classification.ipynb",
      "provenance": [],
      "toc_visible": true,
      "authorship_tag": "ABX9TyNlxCvoiuZEw5bp0dLPx1ww",
      "include_colab_link": true
    },
    "kernelspec": {
      "name": "python3",
      "display_name": "Python 3"
    }
  },
  "cells": [
    {
      "cell_type": "markdown",
      "metadata": {
        "id": "view-in-github",
        "colab_type": "text"
      },
      "source": [
        "<a href=\"https://colab.research.google.com/github/fajarmuslim/bayes-decision-rule/blob/master/Bayes_Decision_Rule_Fish_Classification.ipynb\" target=\"_parent\"><img src=\"https://colab.research.google.com/assets/colab-badge.svg\" alt=\"Open In Colab\"/></a>"
      ]
    },
    {
      "cell_type": "markdown",
      "metadata": {
        "id": "3tIGGUbC_aJ3"
      },
      "source": [
        "# Created by :"
      ]
    },
    {
      "cell_type": "markdown",
      "metadata": {
        "id": "mr8-zrVh_RiT"
      },
      "source": [
        "Fajar Muslim\n",
        "\n",
        "13517149"
      ]
    },
    {
      "cell_type": "markdown",
      "metadata": {
        "id": "OsMifcRMqNVH"
      },
      "source": [
        "# 1. Task to create csv file"
      ]
    },
    {
      "cell_type": "markdown",
      "metadata": {
        "id": "WJKBrv7wqblA"
      },
      "source": [
        "Data created from figure 1.3 in this book\n",
        "\n",
        "R. Duda, P. Hart, and D. Stork, Pattern Classification, 2nd ed. John Wiley & Sons, 2001 "
      ]
    },
    {
      "cell_type": "markdown",
      "metadata": {
        "id": "5qHc6AT2lIQ0"
      },
      "source": [
        "The file is saved on my github account"
      ]
    },
    {
      "cell_type": "code",
      "metadata": {
        "id": "98YB633Jev35",
        "outputId": "3a490399-3492-4b17-f426-218a5d2f8726",
        "colab": {
          "base_uri": "https://localhost:8080/",
          "height": 143
        }
      },
      "source": [
        "#retrieve file from github\n",
        "!git clone https://github.com/fajarmuslim/dataset.git"
      ],
      "execution_count": null,
      "outputs": [
        {
          "output_type": "stream",
          "text": [
            "Cloning into 'dataset'...\n",
            "remote: Enumerating objects: 240, done.\u001b[K\n",
            "remote: Counting objects: 100% (240/240), done.\u001b[K\n",
            "remote: Compressing objects: 100% (238/238), done.\u001b[K\n",
            "remote: Total 240 (delta 1), reused 236 (delta 0), pack-reused 0\u001b[K\n",
            "Receiving objects: 100% (240/240), 4.90 MiB | 3.85 MiB/s, done.\n",
            "Resolving deltas: 100% (1/1), done.\n"
          ],
          "name": "stdout"
        }
      ]
    },
    {
      "cell_type": "code",
      "metadata": {
        "id": "CYIAFa0shyMi"
      },
      "source": [
        "#data processing\n",
        "import pandas as pd\n",
        "\n",
        "#read dataset\n",
        "data = pd.read_csv(\"dataset/Dataset_Fish_Classification.csv\")"
      ],
      "execution_count": null,
      "outputs": []
    },
    {
      "cell_type": "code",
      "metadata": {
        "id": "7f6GASB2ihIi",
        "outputId": "75106d77-c986-49d4-ea78-6afd05e59574",
        "colab": {
          "base_uri": "https://localhost:8080/",
          "height": 669
        }
      },
      "source": [
        "data"
      ],
      "execution_count": null,
      "outputs": [
        {
          "output_type": "execute_result",
          "data": {
            "text/html": [
              "<div>\n",
              "<style scoped>\n",
              "    .dataframe tbody tr th:only-of-type {\n",
              "        vertical-align: middle;\n",
              "    }\n",
              "\n",
              "    .dataframe tbody tr th {\n",
              "        vertical-align: top;\n",
              "    }\n",
              "\n",
              "    .dataframe thead th {\n",
              "        text-align: right;\n",
              "    }\n",
              "</style>\n",
              "<table border=\"1\" class=\"dataframe\">\n",
              "  <thead>\n",
              "    <tr style=\"text-align: right;\">\n",
              "      <th></th>\n",
              "      <th>lightness</th>\n",
              "      <th>countSalmon</th>\n",
              "      <th>countSeaBass</th>\n",
              "    </tr>\n",
              "  </thead>\n",
              "  <tbody>\n",
              "    <tr>\n",
              "      <th>0</th>\n",
              "      <td>0-0.5</td>\n",
              "      <td>0</td>\n",
              "      <td>0</td>\n",
              "    </tr>\n",
              "    <tr>\n",
              "      <th>1</th>\n",
              "      <td>0.5-1</td>\n",
              "      <td>2</td>\n",
              "      <td>0</td>\n",
              "    </tr>\n",
              "    <tr>\n",
              "      <th>2</th>\n",
              "      <td>1-1.5</td>\n",
              "      <td>8</td>\n",
              "      <td>0</td>\n",
              "    </tr>\n",
              "    <tr>\n",
              "      <th>3</th>\n",
              "      <td>1.5-2</td>\n",
              "      <td>4</td>\n",
              "      <td>0</td>\n",
              "    </tr>\n",
              "    <tr>\n",
              "      <th>4</th>\n",
              "      <td>2-2.5</td>\n",
              "      <td>7</td>\n",
              "      <td>0</td>\n",
              "    </tr>\n",
              "    <tr>\n",
              "      <th>5</th>\n",
              "      <td>2.5-3</td>\n",
              "      <td>10</td>\n",
              "      <td>0</td>\n",
              "    </tr>\n",
              "    <tr>\n",
              "      <th>6</th>\n",
              "      <td>3-3.5</td>\n",
              "      <td>12</td>\n",
              "      <td>0</td>\n",
              "    </tr>\n",
              "    <tr>\n",
              "      <th>7</th>\n",
              "      <td>3.5-4</td>\n",
              "      <td>8</td>\n",
              "      <td>1</td>\n",
              "    </tr>\n",
              "    <tr>\n",
              "      <th>8</th>\n",
              "      <td>4-4.5</td>\n",
              "      <td>6</td>\n",
              "      <td>0</td>\n",
              "    </tr>\n",
              "    <tr>\n",
              "      <th>9</th>\n",
              "      <td>4.5-5</td>\n",
              "      <td>8</td>\n",
              "      <td>3</td>\n",
              "    </tr>\n",
              "    <tr>\n",
              "      <th>10</th>\n",
              "      <td>5-5.5</td>\n",
              "      <td>4</td>\n",
              "      <td>3</td>\n",
              "    </tr>\n",
              "    <tr>\n",
              "      <th>11</th>\n",
              "      <td>5.5-6</td>\n",
              "      <td>3</td>\n",
              "      <td>4</td>\n",
              "    </tr>\n",
              "    <tr>\n",
              "      <th>12</th>\n",
              "      <td>6-6.5</td>\n",
              "      <td>1</td>\n",
              "      <td>6</td>\n",
              "    </tr>\n",
              "    <tr>\n",
              "      <th>13</th>\n",
              "      <td>6.5-7</td>\n",
              "      <td>1</td>\n",
              "      <td>5</td>\n",
              "    </tr>\n",
              "    <tr>\n",
              "      <th>14</th>\n",
              "      <td>7-7.5</td>\n",
              "      <td>0</td>\n",
              "      <td>12</td>\n",
              "    </tr>\n",
              "    <tr>\n",
              "      <th>15</th>\n",
              "      <td>7.5-8</td>\n",
              "      <td>0</td>\n",
              "      <td>9</td>\n",
              "    </tr>\n",
              "    <tr>\n",
              "      <th>16</th>\n",
              "      <td>8-8.5</td>\n",
              "      <td>0</td>\n",
              "      <td>9</td>\n",
              "    </tr>\n",
              "    <tr>\n",
              "      <th>17</th>\n",
              "      <td>8.5-9</td>\n",
              "      <td>0</td>\n",
              "      <td>2</td>\n",
              "    </tr>\n",
              "    <tr>\n",
              "      <th>18</th>\n",
              "      <td>9-9.5</td>\n",
              "      <td>0</td>\n",
              "      <td>1</td>\n",
              "    </tr>\n",
              "    <tr>\n",
              "      <th>19</th>\n",
              "      <td>9.5-10</td>\n",
              "      <td>0</td>\n",
              "      <td>2</td>\n",
              "    </tr>\n",
              "  </tbody>\n",
              "</table>\n",
              "</div>"
            ],
            "text/plain": [
              "   lightness  countSalmon  countSeaBass\n",
              "0      0-0.5            0             0\n",
              "1      0.5-1            2             0\n",
              "2      1-1.5            8             0\n",
              "3      1.5-2            4             0\n",
              "4      2-2.5            7             0\n",
              "5      2.5-3           10             0\n",
              "6      3-3.5           12             0\n",
              "7      3.5-4            8             1\n",
              "8      4-4.5            6             0\n",
              "9      4.5-5            8             3\n",
              "10     5-5.5            4             3\n",
              "11     5.5-6            3             4\n",
              "12     6-6.5            1             6\n",
              "13     6.5-7            1             5\n",
              "14     7-7.5            0            12\n",
              "15     7.5-8            0             9\n",
              "16     8-8.5            0             9\n",
              "17     8.5-9            0             2\n",
              "18     9-9.5            0             1\n",
              "19    9.5-10            0             2"
            ]
          },
          "metadata": {
            "tags": []
          },
          "execution_count": 3
        }
      ]
    },
    {
      "cell_type": "markdown",
      "metadata": {
        "id": "s_DGxjaeiiDI"
      },
      "source": [
        "# Calculate P(kelas) and P(x|kelas)"
      ]
    },
    {
      "cell_type": "markdown",
      "metadata": {
        "id": "kzVOWs4_rYEe"
      },
      "source": [
        "### Formula of Prior Probability\n",
        "\n",
        "Prior probability\n",
        "\n",
        "P(ωi)= Ni /sigma(Ni)"
      ]
    },
    {
      "cell_type": "code",
      "metadata": {
        "id": "6J8leKtqiv57",
        "outputId": "9c2d58be-a73e-4fdd-c032-f0609f2d0323",
        "colab": {
          "base_uri": "https://localhost:8080/",
          "height": 35
        }
      },
      "source": [
        "#number of salmon labels in dataset\n",
        "n_salmon = data['countSalmon'].sum()\n",
        "n_salmon"
      ],
      "execution_count": null,
      "outputs": [
        {
          "output_type": "execute_result",
          "data": {
            "text/plain": [
              "74"
            ]
          },
          "metadata": {
            "tags": []
          },
          "execution_count": 4
        }
      ]
    },
    {
      "cell_type": "code",
      "metadata": {
        "id": "_1Vcrj40i6V1",
        "outputId": "bf7efbb7-ad1a-4274-8a0d-f01e64d1f5c1",
        "colab": {
          "base_uri": "https://localhost:8080/",
          "height": 35
        }
      },
      "source": [
        "#number of seabass labels in dataset\n",
        "n_seabass = data['countSeaBass'].sum()\n",
        "n_seabass"
      ],
      "execution_count": null,
      "outputs": [
        {
          "output_type": "execute_result",
          "data": {
            "text/plain": [
              "57"
            ]
          },
          "metadata": {
            "tags": []
          },
          "execution_count": 5
        }
      ]
    },
    {
      "cell_type": "code",
      "metadata": {
        "id": "sVdYBFsbjBzD",
        "outputId": "4f9f7055-0b7a-4d81-d2ab-7889157a2cab",
        "colab": {
          "base_uri": "https://localhost:8080/",
          "height": 35
        }
      },
      "source": [
        "#number of total label in dataset\n",
        "total_fish = n_salmon + n_seabass\n",
        "total_fish"
      ],
      "execution_count": null,
      "outputs": [
        {
          "output_type": "execute_result",
          "data": {
            "text/plain": [
              "131"
            ]
          },
          "metadata": {
            "tags": []
          },
          "execution_count": 6
        }
      ]
    },
    {
      "cell_type": "markdown",
      "metadata": {
        "id": "TNDkCcU-rNFO"
      },
      "source": [
        "## P(salmon)"
      ]
    },
    {
      "cell_type": "code",
      "metadata": {
        "id": "WujbGcH6jrt6",
        "outputId": "e4182d38-9086-479f-9043-1375007fab43",
        "colab": {
          "base_uri": "https://localhost:8080/",
          "height": 35
        }
      },
      "source": [
        "#P(salmon)\n",
        "P_salmon = n_salmon / total_fish\n",
        "P_salmon"
      ],
      "execution_count": null,
      "outputs": [
        {
          "output_type": "execute_result",
          "data": {
            "text/plain": [
              "0.5648854961832062"
            ]
          },
          "metadata": {
            "tags": []
          },
          "execution_count": 7
        }
      ]
    },
    {
      "cell_type": "markdown",
      "metadata": {
        "id": "bZEnJjkZrQTo"
      },
      "source": [
        "## P(Seabass)"
      ]
    },
    {
      "cell_type": "code",
      "metadata": {
        "id": "6jYYWJM7krMZ",
        "outputId": "c2c84493-d438-40fc-a4e3-5aba596245ee",
        "colab": {
          "base_uri": "https://localhost:8080/",
          "height": 35
        }
      },
      "source": [
        "#P(seabass)\n",
        "P_seabass = n_seabass / total_fish\n",
        "P_seabass"
      ],
      "execution_count": null,
      "outputs": [
        {
          "output_type": "execute_result",
          "data": {
            "text/plain": [
              "0.4351145038167939"
            ]
          },
          "metadata": {
            "tags": []
          },
          "execution_count": 8
        }
      ]
    },
    {
      "cell_type": "markdown",
      "metadata": {
        "id": "jGYg_xQprd_P"
      },
      "source": [
        "## Formula of Conditional Probability\n",
        "\n",
        "Conditional probability density\n",
        "\n",
        "P(x|ωi)=P(x,ωi)/P(ωi)\n",
        "\n",
        "P(x|ωi)=count(x, ωi)/Ni"
      ]
    },
    {
      "cell_type": "markdown",
      "metadata": {
        "id": "56QM9qLIrpOO"
      },
      "source": [
        "## P(x=lightness | w=salmon)"
      ]
    },
    {
      "cell_type": "code",
      "metadata": {
        "id": "gWT3dAvmn-7i"
      },
      "source": [
        "data['P(x=lightness | w=salmon)'] = data['countSalmon'] / n_salmon "
      ],
      "execution_count": null,
      "outputs": []
    },
    {
      "cell_type": "markdown",
      "metadata": {
        "id": "Ep0AxJAArv_H"
      },
      "source": [
        "## P(x=lightness | w=seabass)"
      ]
    },
    {
      "cell_type": "code",
      "metadata": {
        "id": "kQlzOWBvoUPn"
      },
      "source": [
        "data['P(x=lightness | w=seabass)'] = data['countSeaBass'] / n_seabass"
      ],
      "execution_count": null,
      "outputs": []
    },
    {
      "cell_type": "markdown",
      "metadata": {
        "id": "ps_fyZgqorER"
      },
      "source": [
        "# Bayes decision rule berbasis maximum posterior probability"
      ]
    },
    {
      "cell_type": "markdown",
      "metadata": {
        "id": "K5uMOvbzvTgW"
      },
      "source": [
        "## Formula of posterior conditional probability"
      ]
    },
    {
      "cell_type": "markdown",
      "metadata": {
        "id": "Edyfd1Uloibd"
      },
      "source": [
        "P(ωi|x) → P(x|ωi).P(ωi)"
      ]
    },
    {
      "cell_type": "code",
      "metadata": {
        "id": "OkewMa09o__y"
      },
      "source": [
        "data['P(w=salmon | x=lightness)'] = data['P(x=lightness | w=salmon)'] * P_salmon"
      ],
      "execution_count": null,
      "outputs": []
    },
    {
      "cell_type": "code",
      "metadata": {
        "id": "efGXuLiops70"
      },
      "source": [
        "data['P(w=seabass | x=lightness)'] = data['P(x=lightness | w=seabass)'] * P_seabass"
      ],
      "execution_count": null,
      "outputs": []
    },
    {
      "cell_type": "markdown",
      "metadata": {
        "id": "zdkDne7Pu0GD"
      },
      "source": [
        "## Formula of Decision rule in max posterior probability"
      ]
    },
    {
      "cell_type": "markdown",
      "metadata": {
        "id": "WwDzuLTGunRH"
      },
      "source": [
        "if P(x|ω1).P(ω1) > P(x|ω2).P(ω2):       \n",
        "\n",
        "decide ω1\n",
        "\n",
        "else:\n",
        "\n",
        "decide ω2"
      ]
    },
    {
      "cell_type": "markdown",
      "metadata": {
        "id": "_iIKkzqrxzEs"
      },
      "source": [
        "## Deciding class based on max posterior probability"
      ]
    },
    {
      "cell_type": "code",
      "metadata": {
        "id": "o5DGNmq3sOfO"
      },
      "source": [
        "temp = []\n",
        "for i in range(len(data)):\n",
        "  if(data['P(w=salmon | x=lightness)'][i]>=data['P(w=seabass | x=lightness)'][i]):\n",
        "    temp.append(\"salmon\")\n",
        "  else:\n",
        "    temp.append(\"seabass\")"
      ],
      "execution_count": null,
      "outputs": []
    },
    {
      "cell_type": "code",
      "metadata": {
        "id": "VXdYxYiwsxGb"
      },
      "source": [
        "data['predicted class max posterior'] = temp"
      ],
      "execution_count": null,
      "outputs": []
    },
    {
      "cell_type": "code",
      "metadata": {
        "id": "k9a5Hg10vuAr",
        "outputId": "1151b3dd-6882-434f-cad7-bc6f112586e3",
        "colab": {
          "base_uri": "https://localhost:8080/",
          "height": 723
        }
      },
      "source": [
        "data"
      ],
      "execution_count": null,
      "outputs": [
        {
          "output_type": "execute_result",
          "data": {
            "text/html": [
              "<div>\n",
              "<style scoped>\n",
              "    .dataframe tbody tr th:only-of-type {\n",
              "        vertical-align: middle;\n",
              "    }\n",
              "\n",
              "    .dataframe tbody tr th {\n",
              "        vertical-align: top;\n",
              "    }\n",
              "\n",
              "    .dataframe thead th {\n",
              "        text-align: right;\n",
              "    }\n",
              "</style>\n",
              "<table border=\"1\" class=\"dataframe\">\n",
              "  <thead>\n",
              "    <tr style=\"text-align: right;\">\n",
              "      <th></th>\n",
              "      <th>lightness</th>\n",
              "      <th>countSalmon</th>\n",
              "      <th>countSeaBass</th>\n",
              "      <th>P(x=lightness | w=salmon)</th>\n",
              "      <th>P(x=lightness | w=seabass)</th>\n",
              "      <th>P(w=salmon | x=lightness)</th>\n",
              "      <th>P(w=seabass | x=lightness)</th>\n",
              "      <th>predicted class max posterior</th>\n",
              "    </tr>\n",
              "  </thead>\n",
              "  <tbody>\n",
              "    <tr>\n",
              "      <th>0</th>\n",
              "      <td>0-0.5</td>\n",
              "      <td>0</td>\n",
              "      <td>0</td>\n",
              "      <td>0.000000</td>\n",
              "      <td>0.000000</td>\n",
              "      <td>0.000000</td>\n",
              "      <td>0.000000</td>\n",
              "      <td>salmon</td>\n",
              "    </tr>\n",
              "    <tr>\n",
              "      <th>1</th>\n",
              "      <td>0.5-1</td>\n",
              "      <td>2</td>\n",
              "      <td>0</td>\n",
              "      <td>0.027027</td>\n",
              "      <td>0.000000</td>\n",
              "      <td>0.015267</td>\n",
              "      <td>0.000000</td>\n",
              "      <td>salmon</td>\n",
              "    </tr>\n",
              "    <tr>\n",
              "      <th>2</th>\n",
              "      <td>1-1.5</td>\n",
              "      <td>8</td>\n",
              "      <td>0</td>\n",
              "      <td>0.108108</td>\n",
              "      <td>0.000000</td>\n",
              "      <td>0.061069</td>\n",
              "      <td>0.000000</td>\n",
              "      <td>salmon</td>\n",
              "    </tr>\n",
              "    <tr>\n",
              "      <th>3</th>\n",
              "      <td>1.5-2</td>\n",
              "      <td>4</td>\n",
              "      <td>0</td>\n",
              "      <td>0.054054</td>\n",
              "      <td>0.000000</td>\n",
              "      <td>0.030534</td>\n",
              "      <td>0.000000</td>\n",
              "      <td>salmon</td>\n",
              "    </tr>\n",
              "    <tr>\n",
              "      <th>4</th>\n",
              "      <td>2-2.5</td>\n",
              "      <td>7</td>\n",
              "      <td>0</td>\n",
              "      <td>0.094595</td>\n",
              "      <td>0.000000</td>\n",
              "      <td>0.053435</td>\n",
              "      <td>0.000000</td>\n",
              "      <td>salmon</td>\n",
              "    </tr>\n",
              "    <tr>\n",
              "      <th>5</th>\n",
              "      <td>2.5-3</td>\n",
              "      <td>10</td>\n",
              "      <td>0</td>\n",
              "      <td>0.135135</td>\n",
              "      <td>0.000000</td>\n",
              "      <td>0.076336</td>\n",
              "      <td>0.000000</td>\n",
              "      <td>salmon</td>\n",
              "    </tr>\n",
              "    <tr>\n",
              "      <th>6</th>\n",
              "      <td>3-3.5</td>\n",
              "      <td>12</td>\n",
              "      <td>0</td>\n",
              "      <td>0.162162</td>\n",
              "      <td>0.000000</td>\n",
              "      <td>0.091603</td>\n",
              "      <td>0.000000</td>\n",
              "      <td>salmon</td>\n",
              "    </tr>\n",
              "    <tr>\n",
              "      <th>7</th>\n",
              "      <td>3.5-4</td>\n",
              "      <td>8</td>\n",
              "      <td>1</td>\n",
              "      <td>0.108108</td>\n",
              "      <td>0.017544</td>\n",
              "      <td>0.061069</td>\n",
              "      <td>0.007634</td>\n",
              "      <td>salmon</td>\n",
              "    </tr>\n",
              "    <tr>\n",
              "      <th>8</th>\n",
              "      <td>4-4.5</td>\n",
              "      <td>6</td>\n",
              "      <td>0</td>\n",
              "      <td>0.081081</td>\n",
              "      <td>0.000000</td>\n",
              "      <td>0.045802</td>\n",
              "      <td>0.000000</td>\n",
              "      <td>salmon</td>\n",
              "    </tr>\n",
              "    <tr>\n",
              "      <th>9</th>\n",
              "      <td>4.5-5</td>\n",
              "      <td>8</td>\n",
              "      <td>3</td>\n",
              "      <td>0.108108</td>\n",
              "      <td>0.052632</td>\n",
              "      <td>0.061069</td>\n",
              "      <td>0.022901</td>\n",
              "      <td>salmon</td>\n",
              "    </tr>\n",
              "    <tr>\n",
              "      <th>10</th>\n",
              "      <td>5-5.5</td>\n",
              "      <td>4</td>\n",
              "      <td>3</td>\n",
              "      <td>0.054054</td>\n",
              "      <td>0.052632</td>\n",
              "      <td>0.030534</td>\n",
              "      <td>0.022901</td>\n",
              "      <td>salmon</td>\n",
              "    </tr>\n",
              "    <tr>\n",
              "      <th>11</th>\n",
              "      <td>5.5-6</td>\n",
              "      <td>3</td>\n",
              "      <td>4</td>\n",
              "      <td>0.040541</td>\n",
              "      <td>0.070175</td>\n",
              "      <td>0.022901</td>\n",
              "      <td>0.030534</td>\n",
              "      <td>seabass</td>\n",
              "    </tr>\n",
              "    <tr>\n",
              "      <th>12</th>\n",
              "      <td>6-6.5</td>\n",
              "      <td>1</td>\n",
              "      <td>6</td>\n",
              "      <td>0.013514</td>\n",
              "      <td>0.105263</td>\n",
              "      <td>0.007634</td>\n",
              "      <td>0.045802</td>\n",
              "      <td>seabass</td>\n",
              "    </tr>\n",
              "    <tr>\n",
              "      <th>13</th>\n",
              "      <td>6.5-7</td>\n",
              "      <td>1</td>\n",
              "      <td>5</td>\n",
              "      <td>0.013514</td>\n",
              "      <td>0.087719</td>\n",
              "      <td>0.007634</td>\n",
              "      <td>0.038168</td>\n",
              "      <td>seabass</td>\n",
              "    </tr>\n",
              "    <tr>\n",
              "      <th>14</th>\n",
              "      <td>7-7.5</td>\n",
              "      <td>0</td>\n",
              "      <td>12</td>\n",
              "      <td>0.000000</td>\n",
              "      <td>0.210526</td>\n",
              "      <td>0.000000</td>\n",
              "      <td>0.091603</td>\n",
              "      <td>seabass</td>\n",
              "    </tr>\n",
              "    <tr>\n",
              "      <th>15</th>\n",
              "      <td>7.5-8</td>\n",
              "      <td>0</td>\n",
              "      <td>9</td>\n",
              "      <td>0.000000</td>\n",
              "      <td>0.157895</td>\n",
              "      <td>0.000000</td>\n",
              "      <td>0.068702</td>\n",
              "      <td>seabass</td>\n",
              "    </tr>\n",
              "    <tr>\n",
              "      <th>16</th>\n",
              "      <td>8-8.5</td>\n",
              "      <td>0</td>\n",
              "      <td>9</td>\n",
              "      <td>0.000000</td>\n",
              "      <td>0.157895</td>\n",
              "      <td>0.000000</td>\n",
              "      <td>0.068702</td>\n",
              "      <td>seabass</td>\n",
              "    </tr>\n",
              "    <tr>\n",
              "      <th>17</th>\n",
              "      <td>8.5-9</td>\n",
              "      <td>0</td>\n",
              "      <td>2</td>\n",
              "      <td>0.000000</td>\n",
              "      <td>0.035088</td>\n",
              "      <td>0.000000</td>\n",
              "      <td>0.015267</td>\n",
              "      <td>seabass</td>\n",
              "    </tr>\n",
              "    <tr>\n",
              "      <th>18</th>\n",
              "      <td>9-9.5</td>\n",
              "      <td>0</td>\n",
              "      <td>1</td>\n",
              "      <td>0.000000</td>\n",
              "      <td>0.017544</td>\n",
              "      <td>0.000000</td>\n",
              "      <td>0.007634</td>\n",
              "      <td>seabass</td>\n",
              "    </tr>\n",
              "    <tr>\n",
              "      <th>19</th>\n",
              "      <td>9.5-10</td>\n",
              "      <td>0</td>\n",
              "      <td>2</td>\n",
              "      <td>0.000000</td>\n",
              "      <td>0.035088</td>\n",
              "      <td>0.000000</td>\n",
              "      <td>0.015267</td>\n",
              "      <td>seabass</td>\n",
              "    </tr>\n",
              "  </tbody>\n",
              "</table>\n",
              "</div>"
            ],
            "text/plain": [
              "   lightness  ...  predicted class max posterior\n",
              "0      0-0.5  ...                         salmon\n",
              "1      0.5-1  ...                         salmon\n",
              "2      1-1.5  ...                         salmon\n",
              "3      1.5-2  ...                         salmon\n",
              "4      2-2.5  ...                         salmon\n",
              "5      2.5-3  ...                         salmon\n",
              "6      3-3.5  ...                         salmon\n",
              "7      3.5-4  ...                         salmon\n",
              "8      4-4.5  ...                         salmon\n",
              "9      4.5-5  ...                         salmon\n",
              "10     5-5.5  ...                         salmon\n",
              "11     5.5-6  ...                        seabass\n",
              "12     6-6.5  ...                        seabass\n",
              "13     6.5-7  ...                        seabass\n",
              "14     7-7.5  ...                        seabass\n",
              "15     7.5-8  ...                        seabass\n",
              "16     8-8.5  ...                        seabass\n",
              "17     8.5-9  ...                        seabass\n",
              "18     9-9.5  ...                        seabass\n",
              "19    9.5-10  ...                        seabass\n",
              "\n",
              "[20 rows x 8 columns]"
            ]
          },
          "metadata": {
            "tags": []
          },
          "execution_count": 15
        }
      ]
    },
    {
      "cell_type": "markdown",
      "metadata": {
        "id": "KvWH84kYpV43"
      },
      "source": [
        "# Bayes decision rule berbasis minimum risk"
      ]
    },
    {
      "cell_type": "markdown",
      "metadata": {
        "id": "qWFRfAqoqZ4_"
      },
      "source": [
        "## Lost Function"
      ]
    },
    {
      "cell_type": "markdown",
      "metadata": {
        "id": "PriZr8OfqhbZ"
      },
      "source": [
        "|        | salmon | seabass |\n",
        "|--------|--------|---------|\n",
        "| alpha_1 | 0      | 1       |\n",
        "| alpha_2 | 1      | 0       |"
      ]
    },
    {
      "cell_type": "markdown",
      "metadata": {
        "id": "aFCNo0KbxQdI"
      },
      "source": [
        "## Assign epsilon on P(x|w) = 0"
      ]
    },
    {
      "cell_type": "code",
      "metadata": {
        "id": "SRFB1XVqlkpd"
      },
      "source": [
        "EPSILON = 0.00001\n",
        "def change_0_with_epsilon(value):\n",
        "  if(value==0):\n",
        "    return EPSILON\n",
        "  else:\n",
        "    return value"
      ],
      "execution_count": null,
      "outputs": []
    },
    {
      "cell_type": "code",
      "metadata": {
        "id": "ZFHkuevblwWR"
      },
      "source": [
        "data['P(x=lightness | w=salmon)'] = data['P(x=lightness | w=salmon)'].apply(change_0_with_epsilon)\n",
        "data['P(x=lightness | w=seabass)'] = data['P(x=lightness | w=seabass)'].apply(change_0_with_epsilon)"
      ],
      "execution_count": null,
      "outputs": []
    },
    {
      "cell_type": "markdown",
      "metadata": {
        "id": "2YQRwJtMxbV9"
      },
      "source": [
        "## Likelihood ratio"
      ]
    },
    {
      "cell_type": "markdown",
      "metadata": {
        "id": "q9jw4XdtsuwD"
      },
      "source": [
        "## Formula likelihood ratio\n",
        "likelihood_ratio = P(x|w1)/P(x|w2)"
      ]
    },
    {
      "cell_type": "code",
      "metadata": {
        "id": "P63ezaE2tTCp"
      },
      "source": [
        "data[\"LR\"] = data['P(x=lightness | w=salmon)'] / data['P(x=lightness | w=seabass)']"
      ],
      "execution_count": null,
      "outputs": []
    },
    {
      "cell_type": "markdown",
      "metadata": {
        "id": "Q6XOR_9IxnXM"
      },
      "source": [
        "## Treshold"
      ]
    },
    {
      "cell_type": "markdown",
      "metadata": {
        "id": "erpsVVHkxpeM"
      },
      "source": [
        "## Formula of treshold\n",
        "\n",
        "treshold = (lost_alpha_1_seabass-loss_alpha_2_seabass).P(seabass) / (lost_alpha_2_salmon-loss_alpha_1_salmon).P(salmon)"
      ]
    },
    {
      "cell_type": "code",
      "metadata": {
        "id": "rr1e8Bztxzo9",
        "outputId": "ba8ba5f0-61e0-4b6f-b2d2-a0862207f191",
        "colab": {
          "base_uri": "https://localhost:8080/",
          "height": 35
        }
      },
      "source": [
        "treshold = ((1-0)*P_seabass) / ((1-0)*P_salmon)\n",
        "treshold"
      ],
      "execution_count": null,
      "outputs": [
        {
          "output_type": "execute_result",
          "data": {
            "text/plain": [
              "0.7702702702702702"
            ]
          },
          "metadata": {
            "tags": []
          },
          "execution_count": 19
        }
      ]
    },
    {
      "cell_type": "markdown",
      "metadata": {
        "id": "uYYrPt7xx8CO"
      },
      "source": [
        "## Deciding class of based on minimum risk "
      ]
    },
    {
      "cell_type": "code",
      "metadata": {
        "id": "REzY9YbjpOw6"
      },
      "source": [
        "temp = []\n",
        "for i in range(len(data['LR'])):\n",
        "  if(data['LR'][i]>treshold):\n",
        "    temp.append(\"salmon\")\n",
        "  else:\n",
        "    temp.append(\"seabass\")"
      ],
      "execution_count": null,
      "outputs": []
    },
    {
      "cell_type": "code",
      "metadata": {
        "id": "t5MeoTYMnYHw"
      },
      "source": [
        "data['predicted class minimum risk'] = temp"
      ],
      "execution_count": null,
      "outputs": []
    },
    {
      "cell_type": "markdown",
      "metadata": {
        "id": "ATKzAei7yGew"
      },
      "source": [
        "# Final Result"
      ]
    },
    {
      "cell_type": "code",
      "metadata": {
        "id": "r0Q5x_T9p5Yx",
        "outputId": "b943ecb6-07ba-4c48-efdb-16561a14dc7a",
        "colab": {
          "base_uri": "https://localhost:8080/",
          "height": 740
        }
      },
      "source": [
        "data"
      ],
      "execution_count": null,
      "outputs": [
        {
          "output_type": "execute_result",
          "data": {
            "text/html": [
              "<div>\n",
              "<style scoped>\n",
              "    .dataframe tbody tr th:only-of-type {\n",
              "        vertical-align: middle;\n",
              "    }\n",
              "\n",
              "    .dataframe tbody tr th {\n",
              "        vertical-align: top;\n",
              "    }\n",
              "\n",
              "    .dataframe thead th {\n",
              "        text-align: right;\n",
              "    }\n",
              "</style>\n",
              "<table border=\"1\" class=\"dataframe\">\n",
              "  <thead>\n",
              "    <tr style=\"text-align: right;\">\n",
              "      <th></th>\n",
              "      <th>lightness</th>\n",
              "      <th>countSalmon</th>\n",
              "      <th>countSeaBass</th>\n",
              "      <th>P(x=lightness | w=salmon)</th>\n",
              "      <th>P(x=lightness | w=seabass)</th>\n",
              "      <th>P(w=salmon | x=lightness)</th>\n",
              "      <th>P(w=seabass | x=lightness)</th>\n",
              "      <th>predicted class max posterior</th>\n",
              "      <th>LR</th>\n",
              "      <th>predicted class minimum risk</th>\n",
              "    </tr>\n",
              "  </thead>\n",
              "  <tbody>\n",
              "    <tr>\n",
              "      <th>0</th>\n",
              "      <td>0-0.5</td>\n",
              "      <td>0</td>\n",
              "      <td>0</td>\n",
              "      <td>0.000010</td>\n",
              "      <td>0.000010</td>\n",
              "      <td>0.000000</td>\n",
              "      <td>0.000000</td>\n",
              "      <td>salmon</td>\n",
              "      <td>1.000000</td>\n",
              "      <td>salmon</td>\n",
              "    </tr>\n",
              "    <tr>\n",
              "      <th>1</th>\n",
              "      <td>0.5-1</td>\n",
              "      <td>2</td>\n",
              "      <td>0</td>\n",
              "      <td>0.027027</td>\n",
              "      <td>0.000010</td>\n",
              "      <td>0.015267</td>\n",
              "      <td>0.000000</td>\n",
              "      <td>salmon</td>\n",
              "      <td>2702.702703</td>\n",
              "      <td>salmon</td>\n",
              "    </tr>\n",
              "    <tr>\n",
              "      <th>2</th>\n",
              "      <td>1-1.5</td>\n",
              "      <td>8</td>\n",
              "      <td>0</td>\n",
              "      <td>0.108108</td>\n",
              "      <td>0.000010</td>\n",
              "      <td>0.061069</td>\n",
              "      <td>0.000000</td>\n",
              "      <td>salmon</td>\n",
              "      <td>10810.810811</td>\n",
              "      <td>salmon</td>\n",
              "    </tr>\n",
              "    <tr>\n",
              "      <th>3</th>\n",
              "      <td>1.5-2</td>\n",
              "      <td>4</td>\n",
              "      <td>0</td>\n",
              "      <td>0.054054</td>\n",
              "      <td>0.000010</td>\n",
              "      <td>0.030534</td>\n",
              "      <td>0.000000</td>\n",
              "      <td>salmon</td>\n",
              "      <td>5405.405405</td>\n",
              "      <td>salmon</td>\n",
              "    </tr>\n",
              "    <tr>\n",
              "      <th>4</th>\n",
              "      <td>2-2.5</td>\n",
              "      <td>7</td>\n",
              "      <td>0</td>\n",
              "      <td>0.094595</td>\n",
              "      <td>0.000010</td>\n",
              "      <td>0.053435</td>\n",
              "      <td>0.000000</td>\n",
              "      <td>salmon</td>\n",
              "      <td>9459.459459</td>\n",
              "      <td>salmon</td>\n",
              "    </tr>\n",
              "    <tr>\n",
              "      <th>5</th>\n",
              "      <td>2.5-3</td>\n",
              "      <td>10</td>\n",
              "      <td>0</td>\n",
              "      <td>0.135135</td>\n",
              "      <td>0.000010</td>\n",
              "      <td>0.076336</td>\n",
              "      <td>0.000000</td>\n",
              "      <td>salmon</td>\n",
              "      <td>13513.513514</td>\n",
              "      <td>salmon</td>\n",
              "    </tr>\n",
              "    <tr>\n",
              "      <th>6</th>\n",
              "      <td>3-3.5</td>\n",
              "      <td>12</td>\n",
              "      <td>0</td>\n",
              "      <td>0.162162</td>\n",
              "      <td>0.000010</td>\n",
              "      <td>0.091603</td>\n",
              "      <td>0.000000</td>\n",
              "      <td>salmon</td>\n",
              "      <td>16216.216216</td>\n",
              "      <td>salmon</td>\n",
              "    </tr>\n",
              "    <tr>\n",
              "      <th>7</th>\n",
              "      <td>3.5-4</td>\n",
              "      <td>8</td>\n",
              "      <td>1</td>\n",
              "      <td>0.108108</td>\n",
              "      <td>0.017544</td>\n",
              "      <td>0.061069</td>\n",
              "      <td>0.007634</td>\n",
              "      <td>salmon</td>\n",
              "      <td>6.162162</td>\n",
              "      <td>salmon</td>\n",
              "    </tr>\n",
              "    <tr>\n",
              "      <th>8</th>\n",
              "      <td>4-4.5</td>\n",
              "      <td>6</td>\n",
              "      <td>0</td>\n",
              "      <td>0.081081</td>\n",
              "      <td>0.000010</td>\n",
              "      <td>0.045802</td>\n",
              "      <td>0.000000</td>\n",
              "      <td>salmon</td>\n",
              "      <td>8108.108108</td>\n",
              "      <td>salmon</td>\n",
              "    </tr>\n",
              "    <tr>\n",
              "      <th>9</th>\n",
              "      <td>4.5-5</td>\n",
              "      <td>8</td>\n",
              "      <td>3</td>\n",
              "      <td>0.108108</td>\n",
              "      <td>0.052632</td>\n",
              "      <td>0.061069</td>\n",
              "      <td>0.022901</td>\n",
              "      <td>salmon</td>\n",
              "      <td>2.054054</td>\n",
              "      <td>salmon</td>\n",
              "    </tr>\n",
              "    <tr>\n",
              "      <th>10</th>\n",
              "      <td>5-5.5</td>\n",
              "      <td>4</td>\n",
              "      <td>3</td>\n",
              "      <td>0.054054</td>\n",
              "      <td>0.052632</td>\n",
              "      <td>0.030534</td>\n",
              "      <td>0.022901</td>\n",
              "      <td>salmon</td>\n",
              "      <td>1.027027</td>\n",
              "      <td>salmon</td>\n",
              "    </tr>\n",
              "    <tr>\n",
              "      <th>11</th>\n",
              "      <td>5.5-6</td>\n",
              "      <td>3</td>\n",
              "      <td>4</td>\n",
              "      <td>0.040541</td>\n",
              "      <td>0.070175</td>\n",
              "      <td>0.022901</td>\n",
              "      <td>0.030534</td>\n",
              "      <td>seabass</td>\n",
              "      <td>0.577703</td>\n",
              "      <td>seabass</td>\n",
              "    </tr>\n",
              "    <tr>\n",
              "      <th>12</th>\n",
              "      <td>6-6.5</td>\n",
              "      <td>1</td>\n",
              "      <td>6</td>\n",
              "      <td>0.013514</td>\n",
              "      <td>0.105263</td>\n",
              "      <td>0.007634</td>\n",
              "      <td>0.045802</td>\n",
              "      <td>seabass</td>\n",
              "      <td>0.128378</td>\n",
              "      <td>seabass</td>\n",
              "    </tr>\n",
              "    <tr>\n",
              "      <th>13</th>\n",
              "      <td>6.5-7</td>\n",
              "      <td>1</td>\n",
              "      <td>5</td>\n",
              "      <td>0.013514</td>\n",
              "      <td>0.087719</td>\n",
              "      <td>0.007634</td>\n",
              "      <td>0.038168</td>\n",
              "      <td>seabass</td>\n",
              "      <td>0.154054</td>\n",
              "      <td>seabass</td>\n",
              "    </tr>\n",
              "    <tr>\n",
              "      <th>14</th>\n",
              "      <td>7-7.5</td>\n",
              "      <td>0</td>\n",
              "      <td>12</td>\n",
              "      <td>0.000010</td>\n",
              "      <td>0.210526</td>\n",
              "      <td>0.000000</td>\n",
              "      <td>0.091603</td>\n",
              "      <td>seabass</td>\n",
              "      <td>0.000048</td>\n",
              "      <td>seabass</td>\n",
              "    </tr>\n",
              "    <tr>\n",
              "      <th>15</th>\n",
              "      <td>7.5-8</td>\n",
              "      <td>0</td>\n",
              "      <td>9</td>\n",
              "      <td>0.000010</td>\n",
              "      <td>0.157895</td>\n",
              "      <td>0.000000</td>\n",
              "      <td>0.068702</td>\n",
              "      <td>seabass</td>\n",
              "      <td>0.000063</td>\n",
              "      <td>seabass</td>\n",
              "    </tr>\n",
              "    <tr>\n",
              "      <th>16</th>\n",
              "      <td>8-8.5</td>\n",
              "      <td>0</td>\n",
              "      <td>9</td>\n",
              "      <td>0.000010</td>\n",
              "      <td>0.157895</td>\n",
              "      <td>0.000000</td>\n",
              "      <td>0.068702</td>\n",
              "      <td>seabass</td>\n",
              "      <td>0.000063</td>\n",
              "      <td>seabass</td>\n",
              "    </tr>\n",
              "    <tr>\n",
              "      <th>17</th>\n",
              "      <td>8.5-9</td>\n",
              "      <td>0</td>\n",
              "      <td>2</td>\n",
              "      <td>0.000010</td>\n",
              "      <td>0.035088</td>\n",
              "      <td>0.000000</td>\n",
              "      <td>0.015267</td>\n",
              "      <td>seabass</td>\n",
              "      <td>0.000285</td>\n",
              "      <td>seabass</td>\n",
              "    </tr>\n",
              "    <tr>\n",
              "      <th>18</th>\n",
              "      <td>9-9.5</td>\n",
              "      <td>0</td>\n",
              "      <td>1</td>\n",
              "      <td>0.000010</td>\n",
              "      <td>0.017544</td>\n",
              "      <td>0.000000</td>\n",
              "      <td>0.007634</td>\n",
              "      <td>seabass</td>\n",
              "      <td>0.000570</td>\n",
              "      <td>seabass</td>\n",
              "    </tr>\n",
              "    <tr>\n",
              "      <th>19</th>\n",
              "      <td>9.5-10</td>\n",
              "      <td>0</td>\n",
              "      <td>2</td>\n",
              "      <td>0.000010</td>\n",
              "      <td>0.035088</td>\n",
              "      <td>0.000000</td>\n",
              "      <td>0.015267</td>\n",
              "      <td>seabass</td>\n",
              "      <td>0.000285</td>\n",
              "      <td>seabass</td>\n",
              "    </tr>\n",
              "  </tbody>\n",
              "</table>\n",
              "</div>"
            ],
            "text/plain": [
              "   lightness  countSalmon  ...            LR  predicted class minimum risk\n",
              "0      0-0.5            0  ...      1.000000                        salmon\n",
              "1      0.5-1            2  ...   2702.702703                        salmon\n",
              "2      1-1.5            8  ...  10810.810811                        salmon\n",
              "3      1.5-2            4  ...   5405.405405                        salmon\n",
              "4      2-2.5            7  ...   9459.459459                        salmon\n",
              "5      2.5-3           10  ...  13513.513514                        salmon\n",
              "6      3-3.5           12  ...  16216.216216                        salmon\n",
              "7      3.5-4            8  ...      6.162162                        salmon\n",
              "8      4-4.5            6  ...   8108.108108                        salmon\n",
              "9      4.5-5            8  ...      2.054054                        salmon\n",
              "10     5-5.5            4  ...      1.027027                        salmon\n",
              "11     5.5-6            3  ...      0.577703                       seabass\n",
              "12     6-6.5            1  ...      0.128378                       seabass\n",
              "13     6.5-7            1  ...      0.154054                       seabass\n",
              "14     7-7.5            0  ...      0.000048                       seabass\n",
              "15     7.5-8            0  ...      0.000063                       seabass\n",
              "16     8-8.5            0  ...      0.000063                       seabass\n",
              "17     8.5-9            0  ...      0.000285                       seabass\n",
              "18     9-9.5            0  ...      0.000570                       seabass\n",
              "19    9.5-10            0  ...      0.000285                       seabass\n",
              "\n",
              "[20 rows x 10 columns]"
            ]
          },
          "metadata": {
            "tags": []
          },
          "execution_count": 22
        }
      ]
    },
    {
      "cell_type": "code",
      "metadata": {
        "id": "KwheHANGp5vh"
      },
      "source": [
        ""
      ],
      "execution_count": null,
      "outputs": []
    }
  ]
}